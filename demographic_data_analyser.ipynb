{
 "cells": [
  {
   "cell_type": "code",
   "execution_count": null,
   "id": "a8c1dda3",
   "metadata": {},
   "outputs": [],
   "source": [
    "import pandas as pd\n",
    "df=pd.read_csv(r\"C:\\Users\\PRAVEEN CHANDRA\\Downloads\\adult.data.csv\")\n",
    "pd.set_option('display.max_rows',None)\n",
    "pd.set_option('display.max_columns',None)\n"
   ]
  },
  {
   "cell_type": "code",
   "execution_count": null,
   "id": "5a99ff44",
   "metadata": {},
   "outputs": [],
   "source": [
    "df.describe()"
   ]
  },
  {
   "cell_type": "code",
   "execution_count": null,
   "id": "6ffa88e6",
   "metadata": {},
   "outputs": [],
   "source": [
    "df.info()"
   ]
  },
  {
   "cell_type": "code",
   "execution_count": null,
   "id": "9c35e5c8",
   "metadata": {},
   "outputs": [],
   "source": [
    "import numpy as np\n",
    "df.replace('?',np.nan,inplace=True)"
   ]
  },
  {
   "cell_type": "code",
   "execution_count": null,
   "id": "33106262",
   "metadata": {},
   "outputs": [],
   "source": [
    "#number of each race \n",
    "race_count=df['race'].value_counts()\n"
   ]
  },
  {
   "cell_type": "code",
   "execution_count": null,
   "id": "cb1e4a89",
   "metadata": {},
   "outputs": [],
   "source": [
    "#average age of men\n",
    "avg_age=df['age'].mean()\n"
   ]
  },
  {
   "cell_type": "code",
   "execution_count": null,
   "id": "d2e7130e",
   "metadata": {},
   "outputs": [],
   "source": [
    "#percentage of bachelors\n",
    "tot_count=df['education'].count()\n",
    "education_count=df['education'].value_counts()\n",
    "percentage=(education_count['Bachelors']/tot_count)*100\n"
   ]
  },
  {
   "cell_type": "code",
   "execution_count": null,
   "id": "57ce94cf",
   "metadata": {},
   "outputs": [],
   "source": [
    "#advanced_education = ['Bachelors', 'Masters', 'Doctorate']\n",
    "advanced_education = df[df['education'].isin(['Bachelors', 'Masters', 'Doctorate'])]\n",
    "without_advanced_education = df[~df['education'].isin(['Bachelors', 'Masters', 'Doctorate'])]\n",
    "percentage_higher_education = ((advanced_education['salary'] == '>50K').count() / tot_count) * 100\n",
    "percentage_lower_education = ((without_advanced_education['salary'] == '>50K').count() / tot_count)* 100\n"
   ]
  },
  {
   "cell_type": "code",
   "execution_count": null,
   "id": "8d927559",
   "metadata": {},
   "outputs": [],
   "source": [
    "#min no of hours a person works per week\n",
    "df['hours-per-week'].min()"
   ]
  },
  {
   "cell_type": "code",
   "execution_count": null,
   "id": "36257c77",
   "metadata": {},
   "outputs": [],
   "source": [
    "# What percentage of the people who work the minimum number of hours per week have a salary of >50K?\n",
    "minimum=df['hours-per-week'].min()\n",
    "db=df[(df['salary']=='>50K')&(df['hours-per-week']==minimum)]\n",
    "counts=df[df['hours-per-week']==minimum]\n",
    "percent=(len(db)/len(counts))*100\n",
    "percent"
   ]
  },
  {
   "cell_type": "code",
   "execution_count": null,
   "id": "1c315d67",
   "metadata": {},
   "outputs": [],
   "source": [
    "#highest earning country\n",
    "grouped_country = df.groupby('native-country')\n",
    "total_people_in_country = grouped_country.size()\n",
    "people_earning_50k = grouped_country['salary'].apply(lambda x: (x == '>50K').sum())\n",
    "percentage_earning_50k = (people_earning_50k / total_people_in_country) * 100\n",
    "country_with_highest_percentage=percentage_earning_50k.idxmax()\n",
    "print(\"Country having maximum percentage of salary>50K: \",country_with_highest_percentage,\" with percentage of: \",percentage_earning_50k.max())\n"
   ]
  },
  {
   "cell_type": "code",
   "execution_count": null,
   "id": "07a21fab",
   "metadata": {},
   "outputs": [],
   "source": [
    "#most popular occupation in india for salary>50K\n",
    "data=df[(df['native-country']=='India') & (df['salary']=='>50K')]\n",
    "top_in_occupation=data['occupation'].value_counts()\n",
    "top_in_occupation"
   ]
  }
 ],
 "metadata": {
  "kernelspec": {
   "display_name": "Python 3 (ipykernel)",
   "language": "python",
   "name": "python3"
  },
  "language_info": {
   "codemirror_mode": {
    "name": "ipython",
    "version": 3
   },
   "file_extension": ".py",
   "mimetype": "text/x-python",
   "name": "python",
   "nbconvert_exporter": "python",
   "pygments_lexer": "ipython3",
   "version": "3.10.9"
  }
 },
 "nbformat": 4,
 "nbformat_minor": 5
}
