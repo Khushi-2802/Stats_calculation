{
 "cells": [
  {
   "cell_type": "code",
   "execution_count": null,
   "id": "e24b606b",
   "metadata": {},
   "outputs": [],
   "source": [
    "import numpy as np\n",
    "def calculate(matr):\n",
    "    matr=np.array(matr).reshape(3,3)\n",
    "    calculation= {\n",
    "    \n",
    "      'mean':{\n",
    "        'row':list(np.mean(matr,axis=0)),\n",
    "        'column':list(np.mean(matr,axis=1)),\n",
    "        'flattened':np.mean(matr)\n",
    "             },\n",
    "\n",
    "      'variance':{\n",
    "           'row':list(np.var(matr,axis=0)),\n",
    "           'column':list(np.var(matr,axis=1)),\n",
    "           'flattened':np.var(matr)\n",
    "                 },\n",
    "\n",
    "       'standard_deviation':{\n",
    "           'row':list(np.std(matr,axis=0)),\n",
    "           'column':list(np.std(matr,axis=1)),\n",
    "           'flattened':np.std(matr)\n",
    "                            },\n",
    "\n",
    "        'max':{\n",
    "                 'row':list(np.max(matr,axis=0)),\n",
    "                 'column':list(np.max(matr,axis=1)),\n",
    "                 'flattened':(np.max(matr))\n",
    "              },\n",
    "       'min':{\n",
    "              'row':list(np.min(matr,axis=0)),\n",
    "              'column':list(np.min(matr,axis=1)),\n",
    "              'flattened':(np.min(matr))  \n",
    "              },\n",
    "\n",
    "       'sum':{\n",
    "                'row':list(np.sum(matr,axis=0)),\n",
    "                'column':list(np.sum(matr,axis=1)),\n",
    "                'flattened':(np.sum(matr))\n",
    "              }\n",
    "  }\n",
    "    return calculation\n",
    "\n",
    "\n",
    "print(calculate([0,1,2,3,4,5,6,7,8]))\n"
   ]
  }
 ],
 "metadata": {
  "kernelspec": {
   "display_name": "Python 3 (ipykernel)",
   "language": "python",
   "name": "python3"
  },
  "language_info": {
   "codemirror_mode": {
    "name": "ipython",
    "version": 3
   },
   "file_extension": ".py",
   "mimetype": "text/x-python",
   "name": "python",
   "nbconvert_exporter": "python",
   "pygments_lexer": "ipython3",
   "version": "3.10.9"
  }
 },
 "nbformat": 4,
 "nbformat_minor": 5
}
